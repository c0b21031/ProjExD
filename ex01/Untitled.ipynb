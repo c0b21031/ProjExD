{
 "cells": [
  {
   "cell_type": "code",
   "execution_count": null,
   "id": "8e519bcb-fc7c-486c-9f35-7c4c65f9c37f",
   "metadata": {},
   "outputs": [
    {
     "name": "stdin",
     "output_type": "stream",
     "text": [
      "タラオはカツオから見てどんな関係 甥\n"
     ]
    }
   ],
   "source": [
    "import random\n",
    "a=\"サザエさんの旦那の名前は?\"\n",
    "b=\"カツオの妹の名前は？\"\n",
    "c=\"タラオはカツオから見てどんな関係\"\n",
    "lst=[a,b,c]\n",
    "kaito=input(random.choice(lst))\n",
    "if kaito==a:\n",
    "    if kaito==\"マスオ\":\n",
    "        print(\"正解\")\n",
    "    else:\n",
    "        print(\"はずれ\")\n",
    "\n",
    "if kaito==b:\n",
    "    if kaito==\"ワカメ\":\n",
    "        print(\"正解\")\n",
    "    else:\n",
    "        print(\"はずれ\")\n",
    "\n",
    "if kaito==c:\n",
    "    if kaito==\"甥\":\n",
    "        print(\"正解\")\n",
    "    else:\n",
    "        print(\"はずれ\")"
   ]
  },
  {
   "cell_type": "code",
   "execution_count": null,
   "id": "32b9b8f2-7e51-4541-88eb-88dc93a33a64",
   "metadata": {},
   "outputs": [],
   "source": []
  }
 ],
 "metadata": {
  "kernelspec": {
   "display_name": "Python 3 (ipykernel)",
   "language": "python",
   "name": "python3"
  },
  "language_info": {
   "codemirror_mode": {
    "name": "ipython",
    "version": 3
   },
   "file_extension": ".py",
   "mimetype": "text/x-python",
   "name": "python",
   "nbconvert_exporter": "python",
   "pygments_lexer": "ipython3",
   "version": "3.7.3"
  }
 },
 "nbformat": 4,
 "nbformat_minor": 5
}
